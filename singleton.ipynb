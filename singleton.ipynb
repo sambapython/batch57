{
 "cells": [
  {
   "cell_type": "code",
   "execution_count": 3,
   "metadata": {},
   "outputs": [],
   "source": [
    "class User:\n",
    "    def __init__(self, username, password):\n",
    "        self.username=username\n",
    "        self.password=password\n",
    "jay=User(\"jayaram\",\"jay1234\")\n",
    "vedha=User(\"Vedhanvesh\",\"vedha1234\")\n",
    "sai=User(\"sailaxmi\",\"sai1234\")\n"
   ]
  },
  {
   "cell_type": "code",
   "execution_count": 4,
   "metadata": {},
   "outputs": [
    {
     "name": "stdout",
     "output_type": "stream",
     "text": [
      "1\n"
     ]
    }
   ],
   "source": [
    "class User:\n",
    "    def __init__(self, username, password):\n",
    "        self.count=0\n",
    "        self.username=username\n",
    "        self.password=password\n",
    "        self.count=self.count+1\n",
    "jay=User(\"jayaram\",\"jay1234\")\n",
    "vedha=User(\"Vedhanvesh\",\"vedha1234\")\n",
    "sai=User(\"sailaxmi\",\"sai1234\")\n",
    "print(sai.count)"
   ]
  },
  {
   "cell_type": "code",
   "execution_count": 5,
   "metadata": {},
   "outputs": [
    {
     "name": "stdout",
     "output_type": "stream",
     "text": [
      "count initialized\n",
      "constructor called\n",
      "constructor called\n",
      "constructor called\n",
      "1\n"
     ]
    }
   ],
   "source": [
    "class User:\n",
    "    print(\"count initialized\")\n",
    "    count=0\n",
    "    def __init__(self, username, password):\n",
    "        print(\"constructor called\")\n",
    "        self.username=username\n",
    "        self.password=password\n",
    "        self.count=self.count+1\n",
    "jay=User(\"jayaram\",\"jay1234\")\n",
    "vedha=User(\"Vedhanvesh\",\"vedha1234\")\n",
    "sai=User(\"sailaxmi\",\"sai1234\")\n",
    "print(sai.count)"
   ]
  },
  {
   "cell_type": "code",
   "execution_count": 7,
   "metadata": {},
   "outputs": [
    {
     "name": "stdout",
     "output_type": "stream",
     "text": [
      "count initialized\n",
      "constructor called\n",
      "constructor called\n",
      "constructor called\n",
      "0\n"
     ]
    }
   ],
   "source": [
    "class User:\n",
    "    print(\"count initialized\")\n",
    "    count=0\n",
    "    def __init__(self, username, password):\n",
    "        print(\"constructor called\")\n",
    "        self.username=username\n",
    "        self.password=password\n",
    "        self.count=self.count+1\n",
    "jay=User(\"jayaram\",\"jay1234\")\n",
    "vedha=User(\"Vedhanvesh\",\"vedha1234\")\n",
    "sai=User(\"sailaxmi\",\"sai1234\")\n",
    "print(User.count)"
   ]
  },
  {
   "cell_type": "code",
   "execution_count": 9,
   "metadata": {},
   "outputs": [
    {
     "name": "stdout",
     "output_type": "stream",
     "text": [
      "constructor called\n",
      "constructor called\n",
      "constructor called\n"
     ]
    }
   ],
   "source": [
    "class User:\n",
    "    def __init__(self, username, password):\n",
    "        print(\"constructor called\")\n",
    "        self.username=username\n",
    "        self.password=password\n",
    "jay=User(\"jayaram\",\"jay1234\")\n",
    "vedha=User(\"Vedhanvesh\",\"vedha1234\")\n",
    "sai=User(\"sailaxmi\",\"sai1234\")"
   ]
  },
  {
   "cell_type": "code",
   "execution_count": 14,
   "metadata": {},
   "outputs": [
    {
     "name": "stdout",
     "output_type": "stream",
     "text": [
      "new method overriden\n",
      "constructor called\n",
      "new method overriden\n",
      "constructor called\n",
      "new method overriden\n",
      "constructor called\n"
     ]
    }
   ],
   "source": [
    "class User:\n",
    "    def __new__(cls,*args, **kwargs):\n",
    "        print(\"new method overriden\")\n",
    "        obj=object.__new__(cls)\n",
    "        return obj\n",
    "    def __init__(self, username, password):\n",
    "        print(\"constructor called\")\n",
    "        self.username=username\n",
    "        self.password=password\n",
    "jay=User(\"jayaram\",\"jay1234\")\n",
    "vedha=User(\"Vedhanvesh\",\"vedha1234\")\n",
    "sai=User(\"sailaxmi\",\"sai1234\")"
   ]
  },
  {
   "cell_type": "code",
   "execution_count": 16,
   "metadata": {},
   "outputs": [
    {
     "name": "stdout",
     "output_type": "stream",
     "text": [
      "new method overriden\n",
      "constructor called\n",
      "new method overriden\n"
     ]
    },
    {
     "ename": "Exception",
     "evalue": "Can create only one user object",
     "output_type": "error",
     "traceback": [
      "\u001b[0;31m---------------------------------------------------------------------------\u001b[0m",
      "\u001b[0;31mException\u001b[0m                                 Traceback (most recent call last)",
      "\u001b[0;32m<ipython-input-16-831e5e296642>\u001b[0m in \u001b[0;36m<module>\u001b[0;34m()\u001b[0m\n\u001b[1;32m     14\u001b[0m         \u001b[0mself\u001b[0m\u001b[0;34m.\u001b[0m\u001b[0mpassword\u001b[0m\u001b[0;34m=\u001b[0m\u001b[0mpassword\u001b[0m\u001b[0;34m\u001b[0m\u001b[0m\n\u001b[1;32m     15\u001b[0m \u001b[0mjay\u001b[0m\u001b[0;34m=\u001b[0m\u001b[0mUser\u001b[0m\u001b[0;34m(\u001b[0m\u001b[0;34m\"jayaram\"\u001b[0m\u001b[0;34m,\u001b[0m\u001b[0;34m\"jay1234\"\u001b[0m\u001b[0;34m)\u001b[0m\u001b[0;34m\u001b[0m\u001b[0m\n\u001b[0;32m---> 16\u001b[0;31m \u001b[0mvedha\u001b[0m\u001b[0;34m=\u001b[0m\u001b[0mUser\u001b[0m\u001b[0;34m(\u001b[0m\u001b[0;34m\"Vedhanvesh\"\u001b[0m\u001b[0;34m,\u001b[0m\u001b[0;34m\"vedha1234\"\u001b[0m\u001b[0;34m)\u001b[0m\u001b[0;34m\u001b[0m\u001b[0m\n\u001b[0m\u001b[1;32m     17\u001b[0m \u001b[0msai\u001b[0m\u001b[0;34m=\u001b[0m\u001b[0mUser\u001b[0m\u001b[0;34m(\u001b[0m\u001b[0;34m\"sailaxmi\"\u001b[0m\u001b[0;34m,\u001b[0m\u001b[0;34m\"sai1234\"\u001b[0m\u001b[0;34m)\u001b[0m\u001b[0;34m\u001b[0m\u001b[0m\n",
      "\u001b[0;32m<ipython-input-16-831e5e296642>\u001b[0m in \u001b[0;36m__new__\u001b[0;34m(cls, *args, **kwargs)\u001b[0m\n\u001b[1;32m      7\u001b[0m             \u001b[0mcls\u001b[0m\u001b[0;34m.\u001b[0m\u001b[0mobj_count\u001b[0m\u001b[0;34m=\u001b[0m\u001b[0mcls\u001b[0m\u001b[0;34m.\u001b[0m\u001b[0mobj_count\u001b[0m\u001b[0;34m+\u001b[0m\u001b[0;36m1\u001b[0m\u001b[0;34m\u001b[0m\u001b[0m\n\u001b[1;32m      8\u001b[0m         \u001b[0;32melse\u001b[0m\u001b[0;34m:\u001b[0m\u001b[0;34m\u001b[0m\u001b[0m\n\u001b[0;32m----> 9\u001b[0;31m             \u001b[0;32mraise\u001b[0m \u001b[0mException\u001b[0m\u001b[0;34m(\u001b[0m\u001b[0;34m\"Can create only one user object\"\u001b[0m\u001b[0;34m)\u001b[0m\u001b[0;34m\u001b[0m\u001b[0m\n\u001b[0m\u001b[1;32m     10\u001b[0m         \u001b[0;32mreturn\u001b[0m \u001b[0mobj\u001b[0m\u001b[0;34m\u001b[0m\u001b[0m\n\u001b[1;32m     11\u001b[0m     \u001b[0;32mdef\u001b[0m \u001b[0m__init__\u001b[0m\u001b[0;34m(\u001b[0m\u001b[0mself\u001b[0m\u001b[0;34m,\u001b[0m \u001b[0musername\u001b[0m\u001b[0;34m,\u001b[0m \u001b[0mpassword\u001b[0m\u001b[0;34m)\u001b[0m\u001b[0;34m:\u001b[0m\u001b[0;34m\u001b[0m\u001b[0m\n",
      "\u001b[0;31mException\u001b[0m: Can create only one user object"
     ]
    }
   ],
   "source": [
    "class User:\n",
    "    obj_count=0\n",
    "    def __new__(cls,*args, **kwargs):\n",
    "        print(\"new method overriden\")\n",
    "        if cls.obj_count==0:\n",
    "            obj=object.__new__(cls)\n",
    "            cls.obj_count=cls.obj_count+1\n",
    "        else:\n",
    "            raise Exception(\"Can create only one user object\")\n",
    "        return obj\n",
    "    def __init__(self, username, password):\n",
    "        print(\"constructor called\")\n",
    "        self.username=username\n",
    "        self.password=password\n",
    "jay=User(\"jayaram\",\"jay1234\")\n",
    "vedha=User(\"Vedhanvesh\",\"vedha1234\")\n",
    "sai=User(\"sailaxmi\",\"sai1234\")"
   ]
  },
  {
   "cell_type": "code",
   "execution_count": 17,
   "metadata": {},
   "outputs": [
    {
     "name": "stdout",
     "output_type": "stream",
     "text": [
      "new method overriden\n",
      "constructor called\n",
      "new method overriden\n"
     ]
    },
    {
     "ename": "SingletonException",
     "evalue": "Can create only one user object",
     "output_type": "error",
     "traceback": [
      "\u001b[0;31m---------------------------------------------------------------------------\u001b[0m",
      "\u001b[0;31mSingletonException\u001b[0m                        Traceback (most recent call last)",
      "\u001b[0;32m<ipython-input-17-5d1492397d7f>\u001b[0m in \u001b[0;36m<module>\u001b[0;34m()\u001b[0m\n\u001b[1;32m     16\u001b[0m         \u001b[0mself\u001b[0m\u001b[0;34m.\u001b[0m\u001b[0mpassword\u001b[0m\u001b[0;34m=\u001b[0m\u001b[0mpassword\u001b[0m\u001b[0;34m\u001b[0m\u001b[0m\n\u001b[1;32m     17\u001b[0m \u001b[0mjay\u001b[0m\u001b[0;34m=\u001b[0m\u001b[0mUser\u001b[0m\u001b[0;34m(\u001b[0m\u001b[0;34m\"jayaram\"\u001b[0m\u001b[0;34m,\u001b[0m\u001b[0;34m\"jay1234\"\u001b[0m\u001b[0;34m)\u001b[0m\u001b[0;34m\u001b[0m\u001b[0m\n\u001b[0;32m---> 18\u001b[0;31m \u001b[0mvedha\u001b[0m\u001b[0;34m=\u001b[0m\u001b[0mUser\u001b[0m\u001b[0;34m(\u001b[0m\u001b[0;34m\"Vedhanvesh\"\u001b[0m\u001b[0;34m,\u001b[0m\u001b[0;34m\"vedha1234\"\u001b[0m\u001b[0;34m)\u001b[0m\u001b[0;34m\u001b[0m\u001b[0m\n\u001b[0m\u001b[1;32m     19\u001b[0m \u001b[0msai\u001b[0m\u001b[0;34m=\u001b[0m\u001b[0mUser\u001b[0m\u001b[0;34m(\u001b[0m\u001b[0;34m\"sailaxmi\"\u001b[0m\u001b[0;34m,\u001b[0m\u001b[0;34m\"sai1234\"\u001b[0m\u001b[0;34m)\u001b[0m\u001b[0;34m\u001b[0m\u001b[0m\n",
      "\u001b[0;32m<ipython-input-17-5d1492397d7f>\u001b[0m in \u001b[0;36m__new__\u001b[0;34m(cls, *args, **kwargs)\u001b[0m\n\u001b[1;32m      9\u001b[0m             \u001b[0mcls\u001b[0m\u001b[0;34m.\u001b[0m\u001b[0mobj_count\u001b[0m\u001b[0;34m=\u001b[0m\u001b[0mcls\u001b[0m\u001b[0;34m.\u001b[0m\u001b[0mobj_count\u001b[0m\u001b[0;34m+\u001b[0m\u001b[0;36m1\u001b[0m\u001b[0;34m\u001b[0m\u001b[0m\n\u001b[1;32m     10\u001b[0m         \u001b[0;32melse\u001b[0m\u001b[0;34m:\u001b[0m\u001b[0;34m\u001b[0m\u001b[0m\n\u001b[0;32m---> 11\u001b[0;31m             \u001b[0;32mraise\u001b[0m \u001b[0mSingletonException\u001b[0m\u001b[0;34m(\u001b[0m\u001b[0;34m\"Can create only one user object\"\u001b[0m\u001b[0;34m)\u001b[0m\u001b[0;34m\u001b[0m\u001b[0m\n\u001b[0m\u001b[1;32m     12\u001b[0m         \u001b[0;32mreturn\u001b[0m \u001b[0mobj\u001b[0m\u001b[0;34m\u001b[0m\u001b[0m\n\u001b[1;32m     13\u001b[0m     \u001b[0;32mdef\u001b[0m \u001b[0m__init__\u001b[0m\u001b[0;34m(\u001b[0m\u001b[0mself\u001b[0m\u001b[0;34m,\u001b[0m \u001b[0musername\u001b[0m\u001b[0;34m,\u001b[0m \u001b[0mpassword\u001b[0m\u001b[0;34m)\u001b[0m\u001b[0;34m:\u001b[0m\u001b[0;34m\u001b[0m\u001b[0m\n",
      "\u001b[0;31mSingletonException\u001b[0m: Can create only one user object"
     ]
    }
   ],
   "source": [
    "class SingletonException(Exception):\n",
    "    pass\n",
    "class User:\n",
    "    obj_count=0\n",
    "    def __new__(cls,*args, **kwargs):\n",
    "        print(\"new method overriden\")\n",
    "        if cls.obj_count==0:\n",
    "            obj=object.__new__(cls)\n",
    "            cls.obj_count=cls.obj_count+1\n",
    "        else:\n",
    "            raise SingletonException(\"Can create only one user object\")\n",
    "        return obj\n",
    "    def __init__(self, username, password):\n",
    "        print(\"constructor called\")\n",
    "        self.username=username\n",
    "        self.password=password\n",
    "jay=User(\"jayaram\",\"jay1234\")\n",
    "vedha=User(\"Vedhanvesh\",\"vedha1234\")\n",
    "sai=User(\"sailaxmi\",\"sai1234\")"
   ]
  },
  {
   "cell_type": "code",
   "execution_count": null,
   "metadata": {},
   "outputs": [],
   "source": []
  }
 ],
 "metadata": {
  "kernelspec": {
   "display_name": "Python 3",
   "language": "python",
   "name": "python3"
  },
  "language_info": {
   "codemirror_mode": {
    "name": "ipython",
    "version": 3
   },
   "file_extension": ".py",
   "mimetype": "text/x-python",
   "name": "python",
   "nbconvert_exporter": "python",
   "pygments_lexer": "ipython3",
   "version": "3.7.0"
  }
 },
 "nbformat": 4,
 "nbformat_minor": 2
}
